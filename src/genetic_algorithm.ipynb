{
 "cells": [
  {
   "cell_type": "markdown",
   "metadata": {},
   "source": [
    "Genetic algorithm – This is the most popular type of EA (Evolutionary algorithm)"
   ]
  },
  {
   "cell_type": "code",
   "execution_count": 1,
   "metadata": {
    "ExecuteTime": {
     "end_time": "2020-12-28T00:02:51.955937Z",
     "start_time": "2020-12-28T00:02:51.749383Z"
    }
   },
   "outputs": [],
   "source": [
    "import pandas as pd\n",
    "import numpy as np\n",
    "import random\n",
    "\n",
    "from deap import base\n",
    "from deap import creator\n",
    "from deap import tools"
   ]
  },
  {
   "cell_type": "code",
   "execution_count": 2,
   "metadata": {
    "ExecuteTime": {
     "end_time": "2020-12-28T00:02:51.961126Z",
     "start_time": "2020-12-28T00:02:51.957314Z"
    }
   },
   "outputs": [],
   "source": [
    "prot_cal_p_gram = 4\n",
    "carb_cal_p_gram = 4\n",
    "fat_cal_p_gram = 9\n",
    "\n",
    "total_calories_per_day = 2500\n",
    "total_calories_per_week = total_calories_per_day*7\n",
    "percentage_prot = 0.3\n",
    "percentage_carb = 0.5\n",
    "percentage_fat = 0.2\n",
    "\n",
    "cal_prot = round(percentage_prot * total_calories_per_week)\n",
    "cal_carb = round(percentage_carb * total_calories_per_week)\n",
    "cal_fat = round(percentage_fat * total_calories_per_week)"
   ]
  },
  {
   "cell_type": "code",
   "execution_count": 3,
   "metadata": {
    "ExecuteTime": {
     "end_time": "2020-12-28T00:02:52.022885Z",
     "start_time": "2020-12-28T00:02:51.962598Z"
    }
   },
   "outputs": [],
   "source": [
    "#goal grams\n",
    "gram_prot = cal_prot / prot_cal_p_gram\n",
    "gram_carb = cal_carb / carb_cal_p_gram\n",
    "gram_fat = cal_fat / fat_cal_p_gram"
   ]
  },
  {
   "cell_type": "code",
   "execution_count": 4,
   "metadata": {
    "ExecuteTime": {
     "end_time": "2020-12-28T00:02:52.075929Z",
     "start_time": "2020-12-28T00:02:52.024326Z"
    }
   },
   "outputs": [],
   "source": [
    "products = pd.read_csv(\"food.csv\")"
   ]
  },
  {
   "cell_type": "code",
   "execution_count": 5,
   "metadata": {
    "ExecuteTime": {
     "end_time": "2020-12-28T00:02:52.137765Z",
     "start_time": "2020-12-28T00:02:52.077152Z"
    }
   },
   "outputs": [
    {
     "data": {
      "text/html": [
       "<div>\n",
       "<style scoped>\n",
       "    .dataframe tbody tr th:only-of-type {\n",
       "        vertical-align: middle;\n",
       "    }\n",
       "\n",
       "    .dataframe tbody tr th {\n",
       "        vertical-align: top;\n",
       "    }\n",
       "\n",
       "    .dataframe thead th {\n",
       "        text-align: right;\n",
       "    }\n",
       "</style>\n",
       "<table border=\"1\" class=\"dataframe\">\n",
       "  <thead>\n",
       "    <tr style=\"text-align: right;\">\n",
       "      <th></th>\n",
       "      <th>Name</th>\n",
       "      <th>Units Min</th>\n",
       "      <th>Units Max</th>\n",
       "      <th>Calories</th>\n",
       "      <th>Gram_Prot</th>\n",
       "      <th>Gram_Fat</th>\n",
       "      <th>Gram_Carb</th>\n",
       "    </tr>\n",
       "  </thead>\n",
       "  <tbody>\n",
       "    <tr>\n",
       "      <th>0</th>\n",
       "      <td>Banana</td>\n",
       "      <td>0</td>\n",
       "      <td>5</td>\n",
       "      <td>89</td>\n",
       "      <td>1.0</td>\n",
       "      <td>0.0</td>\n",
       "      <td>23.0</td>\n",
       "    </tr>\n",
       "    <tr>\n",
       "      <th>1</th>\n",
       "      <td>Mandarin</td>\n",
       "      <td>0</td>\n",
       "      <td>8</td>\n",
       "      <td>40</td>\n",
       "      <td>1.0</td>\n",
       "      <td>0.0</td>\n",
       "      <td>10.0</td>\n",
       "    </tr>\n",
       "    <tr>\n",
       "      <th>2</th>\n",
       "      <td>Apple</td>\n",
       "      <td>0</td>\n",
       "      <td>3</td>\n",
       "      <td>52</td>\n",
       "      <td>0.3</td>\n",
       "      <td>0.3</td>\n",
       "      <td>13.8</td>\n",
       "    </tr>\n",
       "    <tr>\n",
       "      <th>3</th>\n",
       "      <td>Chocolate</td>\n",
       "      <td>0</td>\n",
       "      <td>3</td>\n",
       "      <td>230</td>\n",
       "      <td>3.0</td>\n",
       "      <td>13.0</td>\n",
       "      <td>25.0</td>\n",
       "    </tr>\n",
       "    <tr>\n",
       "      <th>4</th>\n",
       "      <td>Olivier salad</td>\n",
       "      <td>0</td>\n",
       "      <td>10</td>\n",
       "      <td>580</td>\n",
       "      <td>24.0</td>\n",
       "      <td>44.0</td>\n",
       "      <td>19.0</td>\n",
       "    </tr>\n",
       "    <tr>\n",
       "      <th>5</th>\n",
       "      <td>Cutlet</td>\n",
       "      <td>0</td>\n",
       "      <td>10</td>\n",
       "      <td>108</td>\n",
       "      <td>18.0</td>\n",
       "      <td>1.3</td>\n",
       "      <td>6.0</td>\n",
       "    </tr>\n",
       "    <tr>\n",
       "      <th>6</th>\n",
       "      <td>Aspic</td>\n",
       "      <td>0</td>\n",
       "      <td>5</td>\n",
       "      <td>257</td>\n",
       "      <td>26.0</td>\n",
       "      <td>15.5</td>\n",
       "      <td>3.6</td>\n",
       "    </tr>\n",
       "    <tr>\n",
       "      <th>7</th>\n",
       "      <td>Champagne</td>\n",
       "      <td>0</td>\n",
       "      <td>10</td>\n",
       "      <td>88</td>\n",
       "      <td>0.0</td>\n",
       "      <td>0.0</td>\n",
       "      <td>1.7</td>\n",
       "    </tr>\n",
       "    <tr>\n",
       "      <th>8</th>\n",
       "      <td>Orange</td>\n",
       "      <td>0</td>\n",
       "      <td>8</td>\n",
       "      <td>43</td>\n",
       "      <td>0.9</td>\n",
       "      <td>0.2</td>\n",
       "      <td>8.1</td>\n",
       "    </tr>\n",
       "    <tr>\n",
       "      <th>9</th>\n",
       "      <td>Potatoes</td>\n",
       "      <td>0</td>\n",
       "      <td>10</td>\n",
       "      <td>91</td>\n",
       "      <td>3.4</td>\n",
       "      <td>1.8</td>\n",
       "      <td>14.6</td>\n",
       "    </tr>\n",
       "  </tbody>\n",
       "</table>\n",
       "</div>"
      ],
      "text/plain": [
       "            Name  Units Min  Units Max  Calories  Gram_Prot  Gram_Fat  \\\n",
       "0         Banana          0          5        89        1.0       0.0   \n",
       "1       Mandarin          0          8        40        1.0       0.0   \n",
       "2          Apple          0          3        52        0.3       0.3   \n",
       "3      Chocolate          0          3       230        3.0      13.0   \n",
       "4  Olivier salad          0         10       580       24.0      44.0   \n",
       "5         Cutlet          0         10       108       18.0       1.3   \n",
       "6          Aspic          0          5       257       26.0      15.5   \n",
       "7      Champagne          0         10        88        0.0       0.0   \n",
       "8         Orange          0          8        43        0.9       0.2   \n",
       "9       Potatoes          0         10        91        3.4       1.8   \n",
       "\n",
       "   Gram_Carb  \n",
       "0       23.0  \n",
       "1       10.0  \n",
       "2       13.8  \n",
       "3       25.0  \n",
       "4       19.0  \n",
       "5        6.0  \n",
       "6        3.6  \n",
       "7        1.7  \n",
       "8        8.1  \n",
       "9       14.6  "
      ]
     },
     "execution_count": 5,
     "metadata": {},
     "output_type": "execute_result"
    }
   ],
   "source": [
    "products"
   ]
  },
  {
   "cell_type": "code",
   "execution_count": 6,
   "metadata": {
    "ExecuteTime": {
     "end_time": "2020-12-28T00:02:52.208117Z",
     "start_time": "2020-12-28T00:02:52.139007Z"
    }
   },
   "outputs": [],
   "source": [
    "cal_data = products[['Gram_Prot', 'Gram_Fat', 'Gram_Carb']]\n",
    "\n",
    "prot_data = list(cal_data['Gram_Prot'])\n",
    "fat_data = list(cal_data['Gram_Fat'])\n",
    "carb_data = list(cal_data['Gram_Carb'])"
   ]
  },
  {
   "cell_type": "code",
   "execution_count": 7,
   "metadata": {
    "ExecuteTime": {
     "end_time": "2020-12-28T00:02:52.256603Z",
     "start_time": "2020-12-28T00:02:52.209524Z"
    }
   },
   "outputs": [],
   "source": [
    "def purchases():\n",
    "    return random.choices( range(0, 22), k = len(products))"
   ]
  },
  {
   "cell_type": "code",
   "execution_count": 8,
   "metadata": {
    "ExecuteTime": {
     "end_time": "2020-12-28T00:02:52.306850Z",
     "start_time": "2020-12-28T00:02:52.258802Z"
    }
   },
   "outputs": [],
   "source": [
    "def cost(person):\n",
    "    person = person[0]\n",
    "    tot_prot = sum(x*y for x,y in zip(prot_data,person))\n",
    "    tot_fat = sum(x*y for x,y in zip(fat_data,person))\n",
    "    tot_carb = sum(x*y for x,y in zip(carb_data,person))\n",
    "    u = prot_cal_p_gram * tot_prot + carb_cal_p_gram * tot_carb + fat_cal_p_gram * tot_fat\n",
    "    \n",
    "    return abs(u - total_calories_per_week), abs(tot_prot - gram_prot), abs(tot_fat - gram_fat), abs(tot_carb - gram_carb),"
   ]
  },
  {
   "cell_type": "code",
   "execution_count": 9,
   "metadata": {
    "ExecuteTime": {
     "end_time": "2020-12-28T00:02:52.356685Z",
     "start_time": "2020-12-28T00:02:52.308491Z"
    }
   },
   "outputs": [],
   "source": [
    "weights = (-1, -1/0.3, -5, -2)\n",
    "creator.create(\"FitnessMin\", base.Fitness, weights=weights)\n",
    "creator.create(\"Person\", list, fitness=creator.FitnessMin)"
   ]
  },
  {
   "cell_type": "code",
   "execution_count": 10,
   "metadata": {
    "ExecuteTime": {
     "end_time": "2020-12-28T00:02:52.406520Z",
     "start_time": "2020-12-28T00:02:52.357924Z"
    }
   },
   "outputs": [],
   "source": [
    "toolbox = base.Toolbox()"
   ]
  },
  {
   "cell_type": "code",
   "execution_count": 11,
   "metadata": {
    "ExecuteTime": {
     "end_time": "2020-12-28T00:02:52.457119Z",
     "start_time": "2020-12-28T00:02:52.407774Z"
    }
   },
   "outputs": [],
   "source": [
    "toolbox.register(\"purchases\", purchases)\n",
    "toolbox.register(\"person\", tools.initRepeat, creator.Person, toolbox.purchases, n=1)\n",
    "toolbox.register(\"population\", tools.initRepeat, list, toolbox.person)\n",
    "\n",
    "toolbox.register(\"cost\", cost)\n",
    "toolbox.register(\"mate\", tools.cxTwoPoint)\n",
    "toolbox.register(\"mutate\", tools.mutFlipBit, indpb=0.05)\n",
    "toolbox.register(\"select\", tools.selTournament, tournsize=3)\n",
    "\n",
    "toolbox.register(\"cost\", cost)\n",
    "toolbox.register(\"mate\", tools.cxTwoPoint)\n",
    "toolbox.register(\"mutate\", tools.mutFlipBit, indpb=0.05)\n",
    "toolbox.register(\"select\", tools.selTournament, tournsize=3)"
   ]
  },
  {
   "cell_type": "code",
   "execution_count": 12,
   "metadata": {
    "ExecuteTime": {
     "end_time": "2020-12-28T00:02:52.520777Z",
     "start_time": "2020-12-28T00:02:52.458368Z"
    }
   },
   "outputs": [
    {
     "data": {
      "text/plain": [
       "[[[12, 2, 7, 0, 5, 2, 13, 14, 4, 14]],\n",
       " [[6, 3, 0, 1, 2, 13, 14, 10, 1, 7]],\n",
       " [[14, 3, 13, 3, 11, 10, 6, 2, 6, 0]],\n",
       " [[13, 8, 0, 8, 11, 6, 3, 9, 6, 3]],\n",
       " [[4, 4, 12, 6, 9, 13, 4, 6, 14, 10]],\n",
       " [[6, 10, 5, 8, 1, 14, 4, 1, 6, 7]],\n",
       " [[11, 3, 8, 10, 6, 1, 6, 3, 1, 8]],\n",
       " [[0, 8, 2, 10, 3, 5, 4, 8, 5, 2]],\n",
       " [[9, 11, 5, 1, 4, 3, 7, 9, 4, 9]],\n",
       " [[4, 9, 10, 1, 1, 11, 0, 14, 12, 5]]]"
      ]
     },
     "execution_count": 12,
     "metadata": {},
     "output_type": "execute_result"
    }
   ],
   "source": [
    "toolbox.population(n=10)"
   ]
  },
  {
   "cell_type": "code",
   "execution_count": 13,
   "metadata": {
    "ExecuteTime": {
     "end_time": "2020-12-28T00:02:52.566072Z",
     "start_time": "2020-12-28T00:02:52.521965Z"
    }
   },
   "outputs": [],
   "source": [
    "pop = toolbox.population(n=100)"
   ]
  },
  {
   "cell_type": "code",
   "execution_count": 14,
   "metadata": {
    "ExecuteTime": {
     "end_time": "2020-12-28T00:02:52.615671Z",
     "start_time": "2020-12-28T00:02:52.567320Z"
    }
   },
   "outputs": [],
   "source": [
    "fitnesses = list(map(toolbox.cost, pop))\n",
    "for ind, fit in zip(pop, fitnesses):\n",
    "    ind.fitness.values = fit"
   ]
  },
  {
   "cell_type": "code",
   "execution_count": 15,
   "metadata": {
    "ExecuteTime": {
     "end_time": "2020-12-28T00:02:52.664824Z",
     "start_time": "2020-12-28T00:02:52.616942Z"
    }
   },
   "outputs": [],
   "source": [
    "# CXPB вероятность скрещивания\n",
    "# MUTPB вероятность мутации\n",
    "CXPB, MUTPB = 0.3, 0.5"
   ]
  },
  {
   "cell_type": "code",
   "execution_count": 16,
   "metadata": {
    "ExecuteTime": {
     "end_time": "2020-12-28T00:02:52.714938Z",
     "start_time": "2020-12-28T00:02:52.666071Z"
    }
   },
   "outputs": [],
   "source": [
    "fits = [ind.fitness.values[0] for ind in pop]"
   ]
  },
  {
   "cell_type": "code",
   "execution_count": 17,
   "metadata": {
    "ExecuteTime": {
     "end_time": "2020-12-28T00:03:10.690883Z",
     "start_time": "2020-12-28T00:02:52.716224Z"
    }
   },
   "outputs": [
    {
     "name": "stdout",
     "output_type": "stream",
     "text": [
      "-- Поколение 1 --\n",
      "321.79999999999563 13404.0 5013.488999999999 2510.5409843256925\n",
      "-- Поколение 2 --\n",
      "138.70000000000073 10573.4 3656.5530000000003 1991.1586224334314\n",
      "-- Поколение 3 --\n",
      "85.40000000000146 11470.6 2749.542999999999 2365.1459901348608\n",
      "-- Поколение 4 --\n",
      "85.40000000000146 11420.8 1463.868 1460.9096694101256\n",
      "-- Поколение 5 --\n",
      "85.40000000000146 10113.0 929.1459999999992 1644.3760590825937\n",
      "-- Поколение 6 --\n",
      "42.0 8191.299999999999 801.8529999999993 1356.764381199256\n",
      "-- Поколение 7 --\n",
      "42.0 3158.7000000000007 397.8249999999996 506.91197211646147\n",
      "-- Поколение 8 --\n",
      "4.599999999998545 8543.8 755.0369999999996 1676.078669493469\n",
      "-- Поколение 9 --\n",
      "4.200000000000728 8155.5999999999985 688.7139999999998 1549.1478455602612\n",
      "...\n",
      "-- Поколение 4891 --\n",
      "2.1999999999970896 7954.200000000001 281.2909999999976 960.1655241774739\n",
      "-- Поколение 4892 --\n",
      "2.1999999999970896 7954.200000000001 246.7819999999975 959.206566009639\n",
      "-- Поколение 4893 --\n",
      "2.1999999999970896 4272.700000000001 343.43399999999775 943.1016753478929\n",
      "-- Поколение 4894 --\n",
      "2.1999999999970896 7954.200000000001 474.5609999999973 1198.0656517816558\n",
      "-- Поколение 4895 --\n",
      "2.1999999999970896 8029.799999999999 559.6739999999975 1747.032490632044\n",
      "-- Поколение 4896 --\n",
      "2.1999999999970896 8923.5 416.5579999999976 1401.499391878571\n",
      "-- Поколение 4897 --\n",
      "2.1999999999970896 11160.2 437.4599999999976 1639.3941301590664\n",
      "-- Поколение 4898 --\n",
      "2.1999999999970896 7954.200000000001 561.9459999999979 1522.2361980599474\n",
      "-- Поколение 4899 --\n",
      "2.1999999999970896 11160.2 560.3039999999977 1924.378479609456\n",
      "-- Поколение 4900 --\n",
      "2.1999999999970896 11160.2 730.8499999999976 1914.8177433635828\n",
      "-- Поколение 4901 --\n",
      "2.1999999999970896 8923.5 359.0489999999975 1295.1638750748893\n",
      "-- Поколение 4902 --\n",
      "2.1999999999970896 8818.2 635.0529999999978 1618.0323519914557\n",
      "-- Поколение 4903 --\n",
      "2.1999999999970896 7954.200000000001 621.9729999999977 1508.7977891589728\n",
      "-- Поколение 4904 --\n",
      "2.1999999999970896 4073.8999999999996 280.6529999999976 861.1919342928164\n",
      "-- Поколение 4905 --\n",
      "2.1999999999970896 11160.2 476.1569999999976 1578.2361201832268\n",
      "-- Поколение 4906 --\n",
      "2.1999999999970896 3303.3999999999996 295.9579999999976 798.0063111504841\n",
      "-- Поколение 4907 --\n",
      "2.1999999999970896 7954.200000000001 270.90599999999756 994.6964301554539\n",
      "-- Поколение 4908 --\n",
      "2.1999999999970896 7895.1 408.9899999999975 1173.1012767446825\n",
      "-- Поколение 4909 --\n",
      "2.1999999999970896 3208.199999999999 244.35799999999736 755.5919954816903\n",
      "-- Поколение 4910 --\n",
      "2.1999999999970896 7954.200000000001 176.72699999999736 925.6532696269171\n",
      "-- Поколение 4911 --\n",
      "2.1999999999970896 8818.2 430.7529999999977 1363.210039168948\n",
      "-- Поколение 4912 --\n",
      "2.1999999999970896 7954.200000000001 250.35899999999748 965.6296162706501\n",
      "-- Поколение 4913 --\n",
      "2.1999999999970896 8818.2 487.4139999999976 1702.65302854222\n",
      "-- Поколение 4914 --\n",
      "2.1999999999970896 4663.0 290.4189999999977 820.5382009017022\n",
      "-- Поколение 4915 --\n",
      "2.1999999999970896 8159.1 671.5129999999974 1900.7741461128394\n",
      "-- Поколение 4916 --\n",
      "2.1999999999970896 7954.200000000001 496.48699999999764 1548.3748655060904\n",
      "-- Поколение 4917 --\n",
      "2.1999999999970896 7954.200000000001 442.88299999999765 1471.965233968182\n",
      "-- Поколение 4918 --\n",
      "2.1999999999970896 11760.400000000001 465.0679999999977 1675.5054382412484\n",
      "-- Поколение 4919 --\n",
      "2.1999999999970896 8923.5 360.6319999999975 1473.4727829776848\n",
      "-- Поколение 4920 --\n",
      "2.1999999999970896 7954.200000000001 250.7189999999974 988.9869261719299\n",
      "-- Поколение 4921 --\n",
      "2.1999999999970896 7954.200000000001 324.1089999999976 1034.0826092817742\n",
      "-- Поколение 4922 --\n",
      "2.1999999999970896 8818.2 348.38499999999755 1462.5664724295457\n",
      "-- Поколение 4923 --\n",
      "2.1999999999970896 8218.2 274.97499999999746 1178.5951375578481\n",
      "-- Поколение 4924 --\n",
      "2.1999999999970896 7954.200000000001 369.1089999999978 1307.9459990454516\n",
      "-- Поколение 4925 --\n",
      "2.1999999999970896 8218.2 386.3509999999977 1276.3107247449595\n",
      "-- Поколение 4926 --\n",
      "2.1999999999970896 4073.8999999999996 183.59799999999757 717.725998411652\n",
      "-- Поколение 4927 --\n",
      "2.1999999999970896 11160.2 373.7399999999975 1497.2198195321898\n",
      "-- Поколение 4928 --\n",
      "2.1999999999970896 7954.200000000001 274.23599999999743 999.859186537786\n",
      "-- Поколение 4929 --\n",
      "2.1999999999970896 8818.2 267.2879999999975 1068.442649773961\n",
      "-- Поколение 4930 --\n",
      "2.1999999999970896 14072.7 294.40799999999746 1477.4950030155783\n",
      "-- Поколение 4931 --\n",
      "2.1999999999970896 8818.2 187.76399999999742 948.4959638838759\n",
      "-- Поколение 4932 --\n",
      "2.1999999999970896 10791.1 212.25899999999726 1330.3744823240575\n",
      "-- Поколение 4933 --\n",
      "2.1999999999970896 10791.1 548.8199999999977 1668.7876511407924\n",
      "-- Поколение 4934 --\n",
      "2.1999999999970896 8049.4000000000015 264.0909999999975 1026.91420557854\n",
      "-- Поколение 4935 --\n",
      "2.1999999999970896 8923.5 292.06899999999746 1160.9113928887955\n",
      "-- Поколение 4936 --\n",
      "2.1999999999970896 9528.6 388.78599999999767 1350.5172480957078\n",
      "-- Поколение 4937 --\n",
      "2.1999999999970896 8818.2 580.6669999999978 1707.1909126430478\n",
      "-- Поколение 4938 --\n",
      "2.1999999999970896 10791.1 635.0109999999977 1957.6962217307853\n",
      "-- Поколение 4939 --\n",
      "2.1999999999970896 7954.200000000001 401.78399999999766 1266.117879245058\n",
      "-- Поколение 4940 --\n",
      "2.1999999999970896 3149.0999999999985 159.8339999999976 562.5537425384358\n",
      "-- Поколение 4941 --\n",
      "2.1999999999970896 7954.200000000001 269.13899999999757 992.2288236989499\n",
      "-- Поколение 4942 --\n",
      "2.1999999999970896 7954.200000000001 584.6839999999977 1699.868617789035\n",
      "-- Поколение 4943 --\n",
      "2.1999999999970896 10053.0 473.50099999999753 1609.1652510227161\n",
      "-- Поколение 4944 --\n",
      "2.1999999999970896 7954.200000000001 306.62199999999757 1231.115141615927\n",
      "-- Поколение 4945 --\n",
      "2.1999999999970896 7954.200000000001 441.8939999999976 1297.9453889759782\n",
      "-- Поколение 4946 --\n",
      "2.1999999999970896 11160.2 332.2619999999975 1464.757074178515\n",
      "-- Поколение 4947 --\n",
      "2.1999999999970896 10886.3 648.2849999999977 1840.559849196705\n",
      "-- Поколение 4948 --\n",
      "2.1999999999970896 9189.0 487.38299999999754 1702.0028651007037\n",
      "-- Поколение 4949 --\n",
      "2.1999999999970896 11760.400000000001 856.4729999999976 2310.9945060884515\n",
      "-- Поколение 4950 --\n",
      "2.1999999999970896 8218.2 487.02899999999755 1390.187371637005\n",
      "-- Поколение 4951 --\n",
      "2.1999999999970896 8049.4000000000015 467.3389999999976 1511.9812686600999\n",
      "-- Поколение 4952 --\n",
      "2.1999999999970896 8818.2 779.7969999999976 2034.4654230266488\n",
      "-- Поколение 4953 --\n",
      "2.1999999999970896 8923.5 460.14499999999754 1647.7510514258515\n",
      "-- Поколение 4954 --\n",
      "2.1999999999970896 11160.2 485.68399999999764 1679.0062629853417\n",
      "-- Поколение 4955 --\n",
      "2.1999999999970896 9187.5 494.32899999999756 1614.7962506951146\n",
      "-- Поколение 4956 --\n",
      "2.1999999999970896 7954.200000000001 537.8619999999975 1585.6366556547573\n",
      "-- Поколение 4957 --\n",
      "2.1999999999970896 7954.200000000001 449.7269999999975 1364.4554595042684\n",
      "-- Поколение 4958 --\n",
      "2.1999999999970896 9284.2 514.5259999999979 1511.8968815114356\n",
      "-- Поколение 4959 --\n",
      "2.1999999999970896 8818.2 433.3079999999977 1398.423695857591\n",
      "-- Поколение 4960 --\n",
      "2.1999999999970896 7954.200000000001 311.0529999999978 1004.0292242215876\n",
      "-- Поколение 4961 --\n",
      "2.1999999999970896 13997.1 593.4499999999975 2037.9634975386582\n",
      "-- Поколение 4962 --\n",
      "2.1999999999970896 7954.200000000001 234.17499999999754 988.3550162138116\n",
      "-- Поколение 4963 --\n",
      "2.1999999999970896 8999.1 661.9349999999976 1924.6509949793503\n",
      "-- Поколение 4964 --\n",
      "2.1999999999970896 11255.400000000001 364.11499999999745 1337.2707812088786\n",
      "-- Поколение 4965 --\n",
      "2.1999999999970896 10791.1 656.0559999999978 1941.0979899180743\n",
      "-- Поколение 4966 --\n",
      "2.1999999999970896 9189.0 291.9879999999975 1114.964157924372\n",
      "-- Поколение 4967 --\n",
      "2.1999999999970896 8029.799999999999 482.8909999999976 1366.0492914309511\n",
      "-- Поколение 4968 --\n",
      "2.1999999999970896 11160.2 525.0589999999976 1832.3562575053443\n",
      "-- Поколение 4969 --\n",
      "2.1999999999970896 8818.2 545.5349999999977 1602.881903283895\n",
      "-- Поколение 4970 --\n",
      "2.1999999999970896 7954.200000000001 424.32999999999765 1477.9769775270534\n",
      "-- Поколение 4971 --\n",
      "2.1999999999970896 8818.2 655.0609999999974 1764.7889462989613\n",
      "-- Поколение 4972 --\n",
      "2.1999999999970896 12024.2 678.5559999999978 1819.859132533065\n",
      "-- Поколение 4973 --\n",
      "2.1999999999970896 10791.1 485.30099999999766 1506.4486119675653\n",
      "-- Поколение 4974 --\n",
      "2.1999999999970896 8923.5 549.7169999999978 1285.6519342384254\n",
      "-- Поколение 4975 --\n",
      "2.1999999999970896 8029.799999999999 451.94099999999776 1415.0133029123804\n",
      "-- Поколение 4976 --\n",
      "2.1999999999970896 7954.200000000001 392.4249999999977 1138.0166917383083\n",
      "-- Поколение 4977 --\n",
      "2.1999999999970896 7954.200000000001 333.9769999999976 1258.000822802196\n",
      "-- Поколение 4978 --\n",
      "2.1999999999970896 11965.1 852.5499999999973 2370.9268074109746\n",
      "-- Поколение 4979 --\n",
      "2.1999999999970896 8029.799999999999 443.8699999999975 1325.1623872944795\n",
      "-- Поколение 4980 --\n",
      "2.1999999999970896 8218.2 688.6269999999973 1881.229541861118\n",
      "-- Поколение 4981 --\n",
      "2.1999999999970896 11160.2 619.0289999999976 1800.032163062371\n",
      "-- Поколение 4982 --\n",
      "2.1999999999970896 11760.400000000001 610.7599999999977 1680.5063326866707\n",
      "-- Поколение 4983 --\n",
      "2.1999999999970896 8923.5 889.3959999999977 2170.700806556259\n",
      "-- Поколение 4984 --\n",
      "2.1999999999970896 8923.5 363.8929999999975 1298.2814115017607\n",
      "-- Поколение 4985 --\n",
      "2.1999999999970896 7954.200000000001 326.9489999999976 1215.8637277668097\n",
      "-- Поколение 4986 --\n",
      "2.1999999999970896 7990.299999999999 324.40099999999745 1246.2104826629425\n",
      "-- Поколение 4987 --\n",
      "2.1999999999970896 4073.8999999999996 289.7289999999975 870.7803304272571\n",
      "-- Поколение 4988 --\n",
      "2.1999999999970896 7954.200000000001 303.4769999999976 1001.8780453583179\n",
      "-- Поколение 4989 --\n",
      "2.1999999999970896 7954.200000000001 426.56399999999775 1598.8559922344477\n",
      "-- Поколение 4990 --\n",
      "2.1999999999970896 9189.0 631.1319999999977 1623.3030539538827\n",
      "-- Поколение 4991 --\n",
      "2.1999999999970896 7954.200000000001 433.35599999999744 1324.3612750545083\n",
      "-- Поколение 4992 --\n",
      "2.1999999999970896 7954.200000000001 547.2949999999978 1378.2447716842623\n",
      "-- Поколение 4993 --\n",
      "2.1999999999970896 7954.200000000001 430.21199999999766 1586.3668752391418\n",
      "-- Поколение 4994 --\n",
      "2.1999999999970896 8893.8 488.59599999999745 1547.178420475158\n",
      "-- Поколение 4995 --\n",
      "2.1999999999970896 7954.200000000001 428.0589999999977 1438.5316150224173\n",
      "-- Поколение 4996 --\n",
      "2.1999999999970896 9189.0 498.7169999999975 1628.0584755502484\n",
      "-- Поколение 4997 --\n",
      "2.1999999999970896 7990.299999999999 367.7369999999975 1112.929438522947\n",
      "-- Поколение 4998 --\n",
      "2.1999999999970896 7954.200000000001 235.52499999999753 905.1771904301405\n",
      "-- Поколение 4999 --\n",
      "2.1999999999970896 8049.4000000000015 412.1879999999977 1356.094248957647\n",
      "-- Поколение 5000 --\n",
      "2.1999999999970896 8049.4000000000015 419.17599999999743 1488.290191536585\n"
     ]
    }
   ],
   "source": [
    "generation = 0\n",
    "while generation < 5000:\n",
    "    generation+=1\n",
    "    if generation < 10 or generation > 4890:\n",
    "        print(\"-- Поколение %i --\" % generation)\n",
    "    \n",
    "    offspring = toolbox.select(pop, len(pop))\n",
    "    offspring = list(map(toolbox.clone, offspring))\n",
    "    \n",
    "    # Скрещивание\n",
    "    for child1, child2 in zip(offspring[::2], offspring[1::2]):\n",
    "        if random.random() < CXPB:\n",
    "            toolbox.mate(child1[0], child2[0])\n",
    "            del child1.fitness.values\n",
    "            del child2.fitness.values\n",
    "            \n",
    "    # Мутирование\n",
    "    for mutant in offspring:\n",
    "        if random.random() < MUTPB:\n",
    "            toolbox.mutate(mutant[0])\n",
    "            del mutant.fitness.values\n",
    "            \n",
    "    # Оценивание\n",
    "    invalid_ind = [ind for ind in offspring if not ind.fitness.valid]\n",
    "    fitnesses = map(toolbox.cost, invalid_ind)\n",
    "    for ind, fit in zip(invalid_ind, fitnesses):\n",
    "        ind.fitness.values = fit\n",
    "    pop[:] = offspring\n",
    "    \n",
    "    # Отбор\n",
    "    fits = [ind.fitness.values[0] for ind in pop]\n",
    "    \n",
    "    length = len(pop)\n",
    "    mean = sum(fits) / length\n",
    "    _sum = sum(x*x for x in fits)\n",
    "    std = abs(_sum / length - mean**2)**0.5\n",
    "    \n",
    "    if generation < 10 or generation > 4890:\n",
    "        print(min(fits), max(fits), mean, std)\n",
    "    elif generation == 10:\n",
    "        print(\"...\")"
   ]
  },
  {
   "cell_type": "code",
   "execution_count": 18,
   "metadata": {
    "ExecuteTime": {
     "end_time": "2020-12-28T00:03:10.695718Z",
     "start_time": "2020-12-28T00:03:10.692422Z"
    }
   },
   "outputs": [],
   "source": [
    "best = pop[np.argmin([toolbox.cost(x) for x in pop])]"
   ]
  },
  {
   "cell_type": "code",
   "execution_count": 19,
   "metadata": {
    "ExecuteTime": {
     "end_time": "2020-12-28T00:03:10.779644Z",
     "start_time": "2020-12-28T00:03:10.697108Z"
    }
   },
   "outputs": [],
   "source": [
    "products['multivariate_choice'] = pd.Series(best[0])\n",
    "\n",
    "products['multivariate_gram_prot'] = products['multivariate_choice'] * products['Gram_Prot']\n",
    "products['multivariate_gram_fat'] = products['multivariate_choice'] * products['Gram_Fat']\n",
    "products['multivariate_gram_carb'] = products['multivariate_choice'] * products['Gram_Carb']\n",
    "products['multivariate_cal'] = products['multivariate_choice'] * products['Calories']"
   ]
  },
  {
   "cell_type": "code",
   "execution_count": 20,
   "metadata": {
    "ExecuteTime": {
     "end_time": "2020-12-28T00:03:10.828929Z",
     "start_time": "2020-12-28T00:03:10.780905Z"
    }
   },
   "outputs": [
    {
     "data": {
      "text/html": [
       "<div>\n",
       "<style scoped>\n",
       "    .dataframe tbody tr th:only-of-type {\n",
       "        vertical-align: middle;\n",
       "    }\n",
       "\n",
       "    .dataframe tbody tr th {\n",
       "        vertical-align: top;\n",
       "    }\n",
       "\n",
       "    .dataframe thead th {\n",
       "        text-align: right;\n",
       "    }\n",
       "</style>\n",
       "<table border=\"1\" class=\"dataframe\">\n",
       "  <thead>\n",
       "    <tr style=\"text-align: right;\">\n",
       "      <th></th>\n",
       "      <th>Name</th>\n",
       "      <th>multivariate_choice</th>\n",
       "    </tr>\n",
       "  </thead>\n",
       "  <tbody>\n",
       "    <tr>\n",
       "      <th>0</th>\n",
       "      <td>Banana</td>\n",
       "      <td>9</td>\n",
       "    </tr>\n",
       "    <tr>\n",
       "      <th>1</th>\n",
       "      <td>Mandarin</td>\n",
       "      <td>6</td>\n",
       "    </tr>\n",
       "    <tr>\n",
       "      <th>2</th>\n",
       "      <td>Apple</td>\n",
       "      <td>0</td>\n",
       "    </tr>\n",
       "    <tr>\n",
       "      <th>3</th>\n",
       "      <td>Chocolate</td>\n",
       "      <td>14</td>\n",
       "    </tr>\n",
       "    <tr>\n",
       "      <th>4</th>\n",
       "      <td>Olivier salad</td>\n",
       "      <td>14</td>\n",
       "    </tr>\n",
       "    <tr>\n",
       "      <th>5</th>\n",
       "      <td>Cutlet</td>\n",
       "      <td>9</td>\n",
       "    </tr>\n",
       "    <tr>\n",
       "      <th>6</th>\n",
       "      <td>Aspic</td>\n",
       "      <td>11</td>\n",
       "    </tr>\n",
       "    <tr>\n",
       "      <th>7</th>\n",
       "      <td>Champagne</td>\n",
       "      <td>14</td>\n",
       "    </tr>\n",
       "    <tr>\n",
       "      <th>8</th>\n",
       "      <td>Orange</td>\n",
       "      <td>2</td>\n",
       "    </tr>\n",
       "    <tr>\n",
       "      <th>9</th>\n",
       "      <td>Potatoes</td>\n",
       "      <td>14</td>\n",
       "    </tr>\n",
       "  </tbody>\n",
       "</table>\n",
       "</div>"
      ],
      "text/plain": [
       "            Name  multivariate_choice\n",
       "0         Banana                    9\n",
       "1       Mandarin                    6\n",
       "2          Apple                    0\n",
       "3      Chocolate                   14\n",
       "4  Olivier salad                   14\n",
       "5         Cutlet                    9\n",
       "6          Aspic                   11\n",
       "7      Champagne                   14\n",
       "8         Orange                    2\n",
       "9       Potatoes                   14"
      ]
     },
     "execution_count": 20,
     "metadata": {},
     "output_type": "execute_result"
    }
   ],
   "source": [
    "products[['Name', 'multivariate_choice','multivariate_cal']]"
   ]
  },
  {
   "cell_type": "code",
   "execution_count": 32,
   "metadata": {
    "ExecuteTime": {
     "end_time": "2020-12-28T00:12:52.962713Z",
     "start_time": "2020-12-28T00:12:51.027472Z"
    }
   },
   "outputs": [],
   "source": [
    "import sys\n",
    "sys.path.append('/home/tardis/jup')\n",
    "from jupmain import *\n",
    "setup_theme()"
   ]
  },
  {
   "cell_type": "code",
   "execution_count": 42,
   "metadata": {
    "ExecuteTime": {
     "end_time": "2020-12-28T00:15:43.007935Z",
     "start_time": "2020-12-28T00:15:43.003092Z"
    }
   },
   "outputs": [],
   "source": [
    "df = products[['Name', 'multivariate_choice']]\n",
    "df.index = products[['Name']]"
   ]
  },
  {
   "cell_type": "code",
   "execution_count": 46,
   "metadata": {
    "ExecuteTime": {
     "end_time": "2020-12-28T00:16:04.150023Z",
     "start_time": "2020-12-28T00:16:03.914598Z"
    }
   },
   "outputs": [
    {
     "data": {
      "text/plain": [
       "<matplotlib.axes._subplots.AxesSubplot at 0x7ff7129ca510>"
      ]
     },
     "execution_count": 46,
     "metadata": {},
     "output_type": "execute_result"
    },
    {
     "data": {
      "image/png": "[encoded data removed]",
      "text/plain": [
       "<Figure size 1080x1080 with 1 Axes>"
      ]
     },
     "metadata": {},
     "output_type": "display_data"
    }
   ],
   "source": [
    "df.plot.pie(y=\"multivariate_choice\",figsize=(15, 15))"
   ]
  },
  {
   "cell_type": "code",
   "execution_count": null,
   "metadata": {},
   "outputs": [],
   "source": []
  }
 ],
 "metadata": {
  "kernelspec": {
   "display_name": "Python 3",
   "language": "python",
   "name": "python3"
  },
  "language_info": {
   "codemirror_mode": {
    "name": "ipython",
    "version": 3
   },
   "file_extension": ".py",
   "mimetype": "text/x-python",
   "name": "python",
   "nbconvert_exporter": "python",
   "pygments_lexer": "ipython3",
   "version": "3.7.6"
  },
  "varInspector": {
   "cols": {
    "lenName": 16,
    "lenType": 16,
    "lenVar": 40
   },
   "kernels_config": {
    "python": {
     "delete_cmd_postfix": "",
     "delete_cmd_prefix": "del ",
     "library": "var_list.py",
     "varRefreshCmd": "print(var_dic_list())"
    },
    "r": {
     "delete_cmd_postfix": ") ",
     "delete_cmd_prefix": "rm(",
     "library": "var_list.r",
     "varRefreshCmd": "cat(var_dic_list()) "
    }
   },
   "types_to_exclude": [
    "module",
    "function",
    "builtin_function_or_method",
    "instance",
    "_Feature"
   ],
   "window_display": false
  }
 },
 "nbformat": 4,
 "nbformat_minor": 4
}
